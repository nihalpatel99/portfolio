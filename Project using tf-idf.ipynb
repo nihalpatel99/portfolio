{
 "cells": [
  {
   "cell_type": "code",
   "execution_count": 2,
   "id": "99f8dad2",
   "metadata": {},
   "outputs": [
    {
     "name": "stdout",
     "output_type": "stream",
     "text": [
      "(46405, 4)\n"
     ]
    }
   ],
   "source": [
    "#importing pandas and reading csv file.\n",
    "import pandas as pd\n",
    "\n",
    "df = pd.read_csv('hogwarts_legacy_reviews.csv')\n",
    "\n",
    "print(df.shape)"
   ]
  },
  {
   "cell_type": "code",
   "execution_count": 3,
   "id": "4eaa4434",
   "metadata": {},
   "outputs": [
    {
     "data": {
      "text/html": [
       "<div>\n",
       "<style scoped>\n",
       "    .dataframe tbody tr th:only-of-type {\n",
       "        vertical-align: middle;\n",
       "    }\n",
       "\n",
       "    .dataframe tbody tr th {\n",
       "        vertical-align: top;\n",
       "    }\n",
       "\n",
       "    .dataframe thead th {\n",
       "        text-align: right;\n",
       "    }\n",
       "</style>\n",
       "<table border=\"1\" class=\"dataframe\">\n",
       "  <thead>\n",
       "    <tr style=\"text-align: right;\">\n",
       "      <th></th>\n",
       "      <th>Unnamed: 0</th>\n",
       "      <th>Playtime</th>\n",
       "      <th>Feedback</th>\n",
       "      <th>Review</th>\n",
       "    </tr>\n",
       "  </thead>\n",
       "  <tbody>\n",
       "    <tr>\n",
       "      <th>0</th>\n",
       "      <td>0</td>\n",
       "      <td>16</td>\n",
       "      <td>Positive</td>\n",
       "      <td>Greattt Game!</td>\n",
       "    </tr>\n",
       "    <tr>\n",
       "      <th>1</th>\n",
       "      <td>1</td>\n",
       "      <td>26</td>\n",
       "      <td>Positive</td>\n",
       "      <td>9/10Fantastic experience. A true Wizarding Wor...</td>\n",
       "    </tr>\n",
       "    <tr>\n",
       "      <th>2</th>\n",
       "      <td>2</td>\n",
       "      <td>29</td>\n",
       "      <td>Positive</td>\n",
       "      <td>worth it</td>\n",
       "    </tr>\n",
       "    <tr>\n",
       "      <th>3</th>\n",
       "      <td>3</td>\n",
       "      <td>24</td>\n",
       "      <td>Positive</td>\n",
       "      <td>I've been waiting 84 YEARSSSSSSSS.The game is ...</td>\n",
       "    </tr>\n",
       "    <tr>\n",
       "      <th>4</th>\n",
       "      <td>4</td>\n",
       "      <td>7</td>\n",
       "      <td>Positive</td>\n",
       "      <td>very fun game (it is not transphobic at all)</td>\n",
       "    </tr>\n",
       "  </tbody>\n",
       "</table>\n",
       "</div>"
      ],
      "text/plain": [
       "   Unnamed: 0  Playtime  Feedback  \\\n",
       "0           0        16  Positive   \n",
       "1           1        26  Positive   \n",
       "2           2        29  Positive   \n",
       "3           3        24  Positive   \n",
       "4           4         7  Positive   \n",
       "\n",
       "                                              Review  \n",
       "0                                      Greattt Game!  \n",
       "1  9/10Fantastic experience. A true Wizarding Wor...  \n",
       "2                                           worth it  \n",
       "3  I've been waiting 84 YEARSSSSSSSS.The game is ...  \n",
       "4       very fun game (it is not transphobic at all)  "
      ]
     },
     "execution_count": 3,
     "metadata": {},
     "output_type": "execute_result"
    }
   ],
   "source": [
    "df.head()"
   ]
  },
  {
   "cell_type": "code",
   "execution_count": 4,
   "id": "f6cdb5ea",
   "metadata": {},
   "outputs": [
    {
     "data": {
      "text/plain": [
       "Feedback\n",
       "Positive    42801\n",
       "Negative     3604\n",
       "Name: count, dtype: int64"
      ]
     },
     "execution_count": 4,
     "metadata": {},
     "output_type": "execute_result"
    }
   ],
   "source": [
    "#check class imbalance\n",
    "\n",
    "df.Feedback.value_counts()"
   ]
  },
  {
   "cell_type": "code",
   "execution_count": 5,
   "id": "8ebb67bb",
   "metadata": {},
   "outputs": [],
   "source": [
    "#since there is class imbalance we need to have these categorical values equal.\n",
    "\n",
    "#this is done using sampling\n",
    "\n",
    "min_samples = 3604\n",
    "\n",
    "df_positive = df[df.Feedback==\"Positive\"].sample(min_samples, random_state=2024)\n",
    "df_negative = df[df.Feedback==\"Negative\"].sample(min_samples, random_state=2024)"
   ]
  },
  {
   "cell_type": "code",
   "execution_count": 6,
   "id": "383265e4",
   "metadata": {},
   "outputs": [],
   "source": [
    "#concat\n",
    "df_balanced = pd.concat([df_positive,df_negative])"
   ]
  },
  {
   "cell_type": "code",
   "execution_count": 10,
   "id": "d04a1f3d",
   "metadata": {},
   "outputs": [
    {
     "data": {
      "text/plain": [
       "Feedback\n",
       "Positive    3604\n",
       "Negative    3604\n",
       "Name: count, dtype: int64"
      ]
     },
     "execution_count": 10,
     "metadata": {},
     "output_type": "execute_result"
    }
   ],
   "source": [
    "#count each categorical value\n",
    "df_balanced.Feedback.value_counts()"
   ]
  },
  {
   "cell_type": "code",
   "execution_count": 11,
   "id": "1194c2b3",
   "metadata": {},
   "outputs": [],
   "source": [
    "#Convert feedback column to num\n",
    "\n",
    "df_balanced['Feedback_num'] = df_balanced['Feedback'].map({\n",
    "    'Positive' : 0,\n",
    "    'Negative' : 1\n",
    "})"
   ]
  },
  {
   "cell_type": "code",
   "execution_count": 12,
   "id": "757c3da1",
   "metadata": {},
   "outputs": [
    {
     "data": {
      "text/html": [
       "<div>\n",
       "<style scoped>\n",
       "    .dataframe tbody tr th:only-of-type {\n",
       "        vertical-align: middle;\n",
       "    }\n",
       "\n",
       "    .dataframe tbody tr th {\n",
       "        vertical-align: top;\n",
       "    }\n",
       "\n",
       "    .dataframe thead th {\n",
       "        text-align: right;\n",
       "    }\n",
       "</style>\n",
       "<table border=\"1\" class=\"dataframe\">\n",
       "  <thead>\n",
       "    <tr style=\"text-align: right;\">\n",
       "      <th></th>\n",
       "      <th>Unnamed: 0</th>\n",
       "      <th>Playtime</th>\n",
       "      <th>Feedback</th>\n",
       "      <th>Review</th>\n",
       "      <th>Feedback_num</th>\n",
       "    </tr>\n",
       "  </thead>\n",
       "  <tbody>\n",
       "    <tr>\n",
       "      <th>11900</th>\n",
       "      <td>11900</td>\n",
       "      <td>3</td>\n",
       "      <td>Positive</td>\n",
       "      <td>Awesome game</td>\n",
       "      <td>0</td>\n",
       "    </tr>\n",
       "    <tr>\n",
       "      <th>17169</th>\n",
       "      <td>17169</td>\n",
       "      <td>18</td>\n",
       "      <td>Positive</td>\n",
       "      <td>Revealio simulator.</td>\n",
       "      <td>0</td>\n",
       "    </tr>\n",
       "    <tr>\n",
       "      <th>6785</th>\n",
       "      <td>6785</td>\n",
       "      <td>5</td>\n",
       "      <td>Positive</td>\n",
       "      <td>too easy to combo people tbh</td>\n",
       "      <td>0</td>\n",
       "    </tr>\n",
       "    <tr>\n",
       "      <th>7831</th>\n",
       "      <td>7831</td>\n",
       "      <td>35</td>\n",
       "      <td>Positive</td>\n",
       "      <td>Can't upskirt with leviosa... refunded...</td>\n",
       "      <td>0</td>\n",
       "    </tr>\n",
       "    <tr>\n",
       "      <th>17685</th>\n",
       "      <td>17685</td>\n",
       "      <td>23</td>\n",
       "      <td>Positive</td>\n",
       "      <td>avada kedavra everything in sight 10/10</td>\n",
       "      <td>0</td>\n",
       "    </tr>\n",
       "  </tbody>\n",
       "</table>\n",
       "</div>"
      ],
      "text/plain": [
       "       Unnamed: 0  Playtime  Feedback  \\\n",
       "11900       11900         3  Positive   \n",
       "17169       17169        18  Positive   \n",
       "6785         6785         5  Positive   \n",
       "7831         7831        35  Positive   \n",
       "17685       17685        23  Positive   \n",
       "\n",
       "                                          Review  Feedback_num  \n",
       "11900                               Awesome game             0  \n",
       "17169                        Revealio simulator.             0  \n",
       "6785                too easy to combo people tbh             0  \n",
       "7831   Can't upskirt with leviosa... refunded...             0  \n",
       "17685    avada kedavra everything in sight 10/10             0  "
      ]
     },
     "execution_count": 12,
     "metadata": {},
     "output_type": "execute_result"
    }
   ],
   "source": [
    "#print top 5 values\n",
    "\n",
    "df_balanced.head()"
   ]
  },
  {
   "cell_type": "code",
   "execution_count": 16,
   "id": "971a9dbd",
   "metadata": {},
   "outputs": [
    {
     "data": {
      "text/plain": [
       "\"Can't upskirt with leviosa... refunded...\""
      ]
     },
     "execution_count": 16,
     "metadata": {},
     "output_type": "execute_result"
    }
   ],
   "source": [
    "df_balanced['Review'][7831]"
   ]
  },
  {
   "cell_type": "code",
   "execution_count": 18,
   "id": "09500d9f",
   "metadata": {},
   "outputs": [],
   "source": [
    "#training model without preprocessed text review\n",
    "\n",
    "from sklearn.model_selection import train_test_split\n",
    "\n",
    "X_train,X_test,y_train,y_test = train_test_split(\n",
    "    df_balanced.Review,\n",
    "    df_balanced.Feedback_num,\n",
    "    test_size=0.2,\n",
    "    random_state = 2024,\n",
    "    stratify = df_balanced.Feedback_num\n",
    "\n",
    ")"
   ]
  },
  {
   "cell_type": "code",
   "execution_count": 19,
   "id": "1658064d",
   "metadata": {},
   "outputs": [
    {
     "data": {
      "text/plain": [
       "(5766,)"
      ]
     },
     "execution_count": 19,
     "metadata": {},
     "output_type": "execute_result"
    }
   ],
   "source": [
    "X_train.shape"
   ]
  },
  {
   "cell_type": "code",
   "execution_count": 20,
   "id": "912bd622",
   "metadata": {},
   "outputs": [
    {
     "data": {
      "text/plain": [
       "(1442,)"
      ]
     },
     "execution_count": 20,
     "metadata": {},
     "output_type": "execute_result"
    }
   ],
   "source": [
    "X_test.shape"
   ]
  },
  {
   "cell_type": "code",
   "execution_count": 25,
   "id": "e6a78ae9",
   "metadata": {},
   "outputs": [
    {
     "name": "stdout",
     "output_type": "stream",
     "text": [
      "              precision    recall  f1-score   support\n",
      "\n",
      "           0       0.96      0.47      0.63       721\n",
      "           1       0.65      0.98      0.78       721\n",
      "\n",
      "    accuracy                           0.72      1442\n",
      "   macro avg       0.80      0.72      0.70      1442\n",
      "weighted avg       0.80      0.72      0.70      1442\n",
      "\n"
     ]
    }
   ],
   "source": [
    "#KNN Classifier\n",
    "from sklearn.ensemble import RandomForestClassifier\n",
    "from sklearn.neighbors import KNeighborsClassifier\n",
    "from sklearn.pipeline import Pipeline\n",
    "from sklearn.metrics import classification_report\n",
    "from sklearn.feature_extraction.text import TfidfVectorizer\n",
    "clf = Pipeline([\n",
    "     ('vectorizer_tfidf',TfidfVectorizer(decode_error='replace', encoding='utf-8')),    \n",
    "     ('KNN', KNeighborsClassifier())         \n",
    "])\n",
    "\n",
    "\n",
    "clf.fit(X_train.values.astype('U'), y_train)\n",
    "\n",
    "\n",
    "\n",
    "y_pred = clf.predict(X_test.values.astype('U'))\n",
    "\n",
    "\n",
    "\n",
    "print(classification_report(y_test, y_pred))"
   ]
  },
  {
   "cell_type": "code",
   "execution_count": 26,
   "id": "a1bebfac",
   "metadata": {},
   "outputs": [],
   "source": [
    "#KNN Classifier accuracy 72%"
   ]
  },
  {
   "cell_type": "code",
   "execution_count": 34,
   "id": "99934100",
   "metadata": {},
   "outputs": [
    {
     "name": "stdout",
     "output_type": "stream",
     "text": [
      "              precision    recall  f1-score   support\n",
      "\n",
      "           0       0.91      0.87      0.89       721\n",
      "           1       0.87      0.91      0.89       721\n",
      "\n",
      "    accuracy                           0.89      1442\n",
      "   macro avg       0.89      0.89      0.89      1442\n",
      "weighted avg       0.89      0.89      0.89      1442\n",
      "\n"
     ]
    }
   ],
   "source": [
    "from sklearn.ensemble import RandomForestClassifier\n",
    "clf = Pipeline([\n",
    "     ('td-idf',TfidfVectorizer(decode_error='replace', encoding='utf-8')),       \n",
    "     ('Random Forest', RandomForestClassifier())         \n",
    "])\n",
    "\n",
    "#2. fit with X_train and y_train\n",
    "clf.fit(X_train.values.astype('U'), y_train)\n",
    "\n",
    "\n",
    "#3. get the predictions for X_test and store it in y_pred\n",
    "y_pred = clf.predict(X_test.values.astype('U'))\n",
    "\n",
    "\n",
    "#4. print the classfication report\n",
    "print(classification_report(y_test, y_pred))"
   ]
  },
  {
   "cell_type": "code",
   "execution_count": 33,
   "id": "17cc22fe",
   "metadata": {},
   "outputs": [
    {
     "name": "stdout",
     "output_type": "stream",
     "text": [
      "              precision    recall  f1-score   support\n",
      "\n",
      "           0       0.96      0.73      0.83       721\n",
      "           1       0.78      0.97      0.87       721\n",
      "\n",
      "    accuracy                           0.85      1442\n",
      "   macro avg       0.87      0.85      0.85      1442\n",
      "weighted avg       0.87      0.85      0.85      1442\n",
      "\n"
     ]
    }
   ],
   "source": [
    "from sklearn.naive_bayes import MultinomialNB\n",
    "clf = Pipeline([\n",
    "     ('count_vectorizer',TfidfVectorizer(decode_error='replace', encoding='utf-8')),       \n",
    "     ('Random Forest', MultinomialNB())         \n",
    "])\n",
    "\n",
    "#2. fit with X_train and y_train\n",
    "clf.fit(X_train.values.astype('U'), y_train)\n",
    "\n",
    "\n",
    "#3. get the predictions for X_test and store it in y_pred\n",
    "y_pred = clf.predict(X_test.values.astype('U'))\n",
    "\n",
    "\n",
    "#4. print the classfication report\n",
    "print(classification_report(y_test, y_pred))"
   ]
  },
  {
   "cell_type": "code",
   "execution_count": 35,
   "id": "7a859328",
   "metadata": {},
   "outputs": [],
   "source": [
    "#Here we observe that Random Forest with TD-IDF is the best option for our dataset."
   ]
  },
  {
   "cell_type": "code",
   "execution_count": 36,
   "id": "73b8089c",
   "metadata": {},
   "outputs": [
    {
     "data": {
      "text/plain": [
       "array([[625,  96],\n",
       "       [ 65, 656]], dtype=int64)"
      ]
     },
     "execution_count": 36,
     "metadata": {},
     "output_type": "execute_result"
    }
   ],
   "source": [
    "from sklearn.metrics import confusion_matrix\n",
    "cm = confusion_matrix(y_test, y_pred)\n",
    "cm"
   ]
  },
  {
   "cell_type": "code",
   "execution_count": 37,
   "id": "ba1f60ec",
   "metadata": {},
   "outputs": [
    {
     "data": {
      "text/plain": [
       "Text(95.72222222222221, 0.5, 'Truth')"
      ]
     },
     "execution_count": 37,
     "metadata": {},
     "output_type": "execute_result"
    },
    {
     "data": {
      "image/png": "[encoded data removed]",
      "text/plain": [
       "<Figure size 1000x700 with 2 Axes>"
      ]
     },
     "metadata": {},
     "output_type": "display_data"
    }
   ],
   "source": [
    "from matplotlib import pyplot as plt\n",
    "import seaborn as sn\n",
    "plt.figure(figsize = (10,7))\n",
    "sn.heatmap(cm, annot=True, fmt='d')\n",
    "plt.xlabel('Prediction')\n",
    "plt.ylabel('Truth')"
   ]
  },
  {
   "cell_type": "code",
   "execution_count": 39,
   "id": "b3749760",
   "metadata": {},
   "outputs": [
    {
     "data": {
      "text/plain": [
       "\"Can't upskirt with leviosa... refunded...\""
      ]
     },
     "execution_count": 39,
     "metadata": {},
     "output_type": "execute_result"
    }
   ],
   "source": [
    "#Let's try preprocessing the text and check if the accuracy increases with preprocessed_text\n",
    "\n",
    "df_balanced['Review'][7831]"
   ]
  },
  {
   "cell_type": "code",
   "execution_count": 44,
   "id": "ef424ca0",
   "metadata": {},
   "outputs": [],
   "source": [
    "import re\n",
    "\n",
    "#Here we use regex to remove unwanted punct, special characters etc.\n",
    "\n",
    "def preprocess(text):\n",
    "    text = re.sub(r'[^\\w\\s\\']',' ', str(text))\n",
    "    text = re.sub(' +', ' ', str(text))\n",
    "    return text.strip().lower() "
   ]
  },
  {
   "cell_type": "code",
   "execution_count": 45,
   "id": "f00970d0",
   "metadata": {},
   "outputs": [
    {
     "data": {
      "text/plain": [
       "'avada kedavra everything in sight 10 10'"
      ]
     },
     "execution_count": 45,
     "metadata": {},
     "output_type": "execute_result"
    }
   ],
   "source": [
    "preprocess(df_balanced['Review'][17685])"
   ]
  },
  {
   "cell_type": "code",
   "execution_count": null,
   "id": "eae6323e",
   "metadata": {},
   "outputs": [],
   "source": []
  },
  {
   "cell_type": "code",
   "execution_count": 46,
   "id": "09f88b81",
   "metadata": {},
   "outputs": [
    {
     "data": {
      "text/html": [
       "<div>\n",
       "<style scoped>\n",
       "    .dataframe tbody tr th:only-of-type {\n",
       "        vertical-align: middle;\n",
       "    }\n",
       "\n",
       "    .dataframe tbody tr th {\n",
       "        vertical-align: top;\n",
       "    }\n",
       "\n",
       "    .dataframe thead th {\n",
       "        text-align: right;\n",
       "    }\n",
       "</style>\n",
       "<table border=\"1\" class=\"dataframe\">\n",
       "  <thead>\n",
       "    <tr style=\"text-align: right;\">\n",
       "      <th></th>\n",
       "      <th>Unnamed: 0</th>\n",
       "      <th>Playtime</th>\n",
       "      <th>Feedback</th>\n",
       "      <th>Review</th>\n",
       "    </tr>\n",
       "  </thead>\n",
       "  <tbody>\n",
       "    <tr>\n",
       "      <th>0</th>\n",
       "      <td>0</td>\n",
       "      <td>16</td>\n",
       "      <td>Positive</td>\n",
       "      <td>Greattt Game!</td>\n",
       "    </tr>\n",
       "    <tr>\n",
       "      <th>1</th>\n",
       "      <td>1</td>\n",
       "      <td>26</td>\n",
       "      <td>Positive</td>\n",
       "      <td>9/10Fantastic experience. A true Wizarding Wor...</td>\n",
       "    </tr>\n",
       "    <tr>\n",
       "      <th>2</th>\n",
       "      <td>2</td>\n",
       "      <td>29</td>\n",
       "      <td>Positive</td>\n",
       "      <td>worth it</td>\n",
       "    </tr>\n",
       "    <tr>\n",
       "      <th>3</th>\n",
       "      <td>3</td>\n",
       "      <td>24</td>\n",
       "      <td>Positive</td>\n",
       "      <td>I've been waiting 84 YEARSSSSSSSS.The game is ...</td>\n",
       "    </tr>\n",
       "    <tr>\n",
       "      <th>4</th>\n",
       "      <td>4</td>\n",
       "      <td>7</td>\n",
       "      <td>Positive</td>\n",
       "      <td>very fun game (it is not transphobic at all)</td>\n",
       "    </tr>\n",
       "  </tbody>\n",
       "</table>\n",
       "</div>"
      ],
      "text/plain": [
       "   Unnamed: 0  Playtime  Feedback  \\\n",
       "0           0        16  Positive   \n",
       "1           1        26  Positive   \n",
       "2           2        29  Positive   \n",
       "3           3        24  Positive   \n",
       "4           4         7  Positive   \n",
       "\n",
       "                                              Review  \n",
       "0                                      Greattt Game!  \n",
       "1  9/10Fantastic experience. A true Wizarding Wor...  \n",
       "2                                           worth it  \n",
       "3  I've been waiting 84 YEARSSSSSSSS.The game is ...  \n",
       "4       very fun game (it is not transphobic at all)  "
      ]
     },
     "execution_count": 46,
     "metadata": {},
     "output_type": "execute_result"
    }
   ],
   "source": [
    "df_balanced['Review'] = df_balanced['Review'].map(preprocess)\n",
    "df.head()"
   ]
  },
  {
   "cell_type": "code",
   "execution_count": 47,
   "id": "03ea2b97",
   "metadata": {},
   "outputs": [],
   "source": [
    "#training model with preprocessed text review\n",
    "\n",
    "from sklearn.model_selection import train_test_split\n",
    "\n",
    "X_train,X_test,y_train,y_test = train_test_split(\n",
    "    df_balanced.Review,\n",
    "    df_balanced.Feedback_num,\n",
    "    test_size=0.2,\n",
    "    random_state = 2024,\n",
    "    stratify = df_balanced.Feedback_num\n",
    "\n",
    ")"
   ]
  },
  {
   "cell_type": "code",
   "execution_count": 48,
   "id": "442750ad",
   "metadata": {},
   "outputs": [
    {
     "name": "stdout",
     "output_type": "stream",
     "text": [
      "              precision    recall  f1-score   support\n",
      "\n",
      "           0       0.96      0.47      0.63       721\n",
      "           1       0.65      0.98      0.78       721\n",
      "\n",
      "    accuracy                           0.72      1442\n",
      "   macro avg       0.80      0.72      0.70      1442\n",
      "weighted avg       0.80      0.72      0.70      1442\n",
      "\n"
     ]
    }
   ],
   "source": [
    "#KNN Classifier\n",
    "from sklearn.ensemble import RandomForestClassifier\n",
    "from sklearn.neighbors import KNeighborsClassifier\n",
    "from sklearn.pipeline import Pipeline\n",
    "from sklearn.metrics import classification_report\n",
    "from sklearn.feature_extraction.text import TfidfVectorizer\n",
    "clf = Pipeline([\n",
    "     ('vectorizer_tfidf',TfidfVectorizer(decode_error='replace', encoding='utf-8')),    \n",
    "     ('KNN', KNeighborsClassifier())         \n",
    "])\n",
    "\n",
    "\n",
    "clf.fit(X_train.values.astype('U'), y_train)\n",
    "\n",
    "\n",
    "\n",
    "y_pred = clf.predict(X_test.values.astype('U'))\n",
    "\n",
    "\n",
    "\n",
    "print(classification_report(y_test, y_pred))"
   ]
  },
  {
   "cell_type": "code",
   "execution_count": 49,
   "id": "aa94ddf0",
   "metadata": {},
   "outputs": [
    {
     "name": "stdout",
     "output_type": "stream",
     "text": [
      "              precision    recall  f1-score   support\n",
      "\n",
      "           0       0.91      0.88      0.90       721\n",
      "           1       0.89      0.91      0.90       721\n",
      "\n",
      "    accuracy                           0.90      1442\n",
      "   macro avg       0.90      0.90      0.90      1442\n",
      "weighted avg       0.90      0.90      0.90      1442\n",
      "\n"
     ]
    }
   ],
   "source": [
    "from sklearn.ensemble import RandomForestClassifier\n",
    "clf = Pipeline([\n",
    "     ('td-idf',TfidfVectorizer(decode_error='replace', encoding='utf-8')),       \n",
    "     ('Random Forest', RandomForestClassifier())         \n",
    "])\n",
    "\n",
    "#2. fit with X_train and y_train\n",
    "clf.fit(X_train.values.astype('U'), y_train)\n",
    "\n",
    "\n",
    "#3. get the predictions for X_test and store it in y_pred\n",
    "y_pred = clf.predict(X_test.values.astype('U'))\n",
    "\n",
    "\n",
    "#4. print the classfication report\n",
    "print(classification_report(y_test, y_pred))"
   ]
  },
  {
   "cell_type": "code",
   "execution_count": 50,
   "id": "ed5e74f8",
   "metadata": {},
   "outputs": [
    {
     "name": "stdout",
     "output_type": "stream",
     "text": [
      "              precision    recall  f1-score   support\n",
      "\n",
      "           0       0.96      0.73      0.83       721\n",
      "           1       0.78      0.97      0.87       721\n",
      "\n",
      "    accuracy                           0.85      1442\n",
      "   macro avg       0.87      0.85      0.85      1442\n",
      "weighted avg       0.87      0.85      0.85      1442\n",
      "\n"
     ]
    }
   ],
   "source": [
    "from sklearn.naive_bayes import MultinomialNB\n",
    "clf = Pipeline([\n",
    "     ('count_vectorizer',TfidfVectorizer(decode_error='replace', encoding='utf-8')),       \n",
    "     ('Random Forest', MultinomialNB())         \n",
    "])\n",
    "\n",
    "#2. fit with X_train and y_train\n",
    "clf.fit(X_train.values.astype('U'), y_train)\n",
    "\n",
    "\n",
    "#3. get the predictions for X_test and store it in y_pred\n",
    "y_pred = clf.predict(X_test.values.astype('U'))\n",
    "\n",
    "\n",
    "#4. print the classfication report\n",
    "print(classification_report(y_test, y_pred))"
   ]
  },
  {
   "cell_type": "code",
   "execution_count": 51,
   "id": "efd0a272",
   "metadata": {},
   "outputs": [],
   "source": [
    "#with countvectorizer"
   ]
  },
  {
   "cell_type": "code",
   "execution_count": 52,
   "id": "58c821df",
   "metadata": {},
   "outputs": [],
   "source": [
    "from sklearn.feature_extraction.text import CountVectorizer"
   ]
  },
  {
   "cell_type": "code",
   "execution_count": 55,
   "id": "5ddea650",
   "metadata": {},
   "outputs": [
    {
     "name": "stdout",
     "output_type": "stream",
     "text": [
      "              precision    recall  f1-score   support\n",
      "\n",
      "           0       0.68      0.89      0.77       721\n",
      "           1       0.84      0.58      0.68       721\n",
      "\n",
      "    accuracy                           0.73      1442\n",
      "   macro avg       0.76      0.73      0.73      1442\n",
      "weighted avg       0.76      0.73      0.73      1442\n",
      "\n"
     ]
    }
   ],
   "source": [
    "#KNN Classifier\n",
    "from sklearn.ensemble import RandomForestClassifier\n",
    "from sklearn.neighbors import KNeighborsClassifier\n",
    "from sklearn.pipeline import Pipeline\n",
    "from sklearn.metrics import classification_report\n",
    "from sklearn.feature_extraction.text import TfidfVectorizer\n",
    "clf = Pipeline([\n",
    "     ('vectorizer_tfidf',CountVectorizer()),    \n",
    "     ('KNN', KNeighborsClassifier())         \n",
    "])\n",
    "\n",
    "\n",
    "clf.fit(X_train.values.astype('U'), y_train)\n",
    "\n",
    "\n",
    "\n",
    "y_pred = clf.predict(X_test.values.astype('U'))\n",
    "\n",
    "\n",
    "\n",
    "print(classification_report(y_test, y_pred))"
   ]
  },
  {
   "cell_type": "code",
   "execution_count": 56,
   "id": "992852fa",
   "metadata": {},
   "outputs": [
    {
     "name": "stdout",
     "output_type": "stream",
     "text": [
      "              precision    recall  f1-score   support\n",
      "\n",
      "           0       0.90      0.85      0.88       721\n",
      "           1       0.86      0.91      0.88       721\n",
      "\n",
      "    accuracy                           0.88      1442\n",
      "   macro avg       0.88      0.88      0.88      1442\n",
      "weighted avg       0.88      0.88      0.88      1442\n",
      "\n"
     ]
    }
   ],
   "source": [
    "from sklearn.ensemble import RandomForestClassifier\n",
    "clf = Pipeline([\n",
    "     ('td-idf',CountVectorizer()),       \n",
    "     ('Random Forest', RandomForestClassifier())         \n",
    "])\n",
    "\n",
    "#2. fit with X_train and y_train\n",
    "clf.fit(X_train.values.astype('U'), y_train)\n",
    "\n",
    "\n",
    "#3. get the predictions for X_test and store it in y_pred\n",
    "y_pred = clf.predict(X_test.values.astype('U'))\n",
    "\n",
    "\n",
    "#4. print the classfication report\n",
    "print(classification_report(y_test, y_pred))"
   ]
  },
  {
   "cell_type": "code",
   "execution_count": 57,
   "id": "e633183a",
   "metadata": {},
   "outputs": [
    {
     "name": "stdout",
     "output_type": "stream",
     "text": [
      "              precision    recall  f1-score   support\n",
      "\n",
      "           0       0.95      0.75      0.84       721\n",
      "           1       0.79      0.96      0.87       721\n",
      "\n",
      "    accuracy                           0.86      1442\n",
      "   macro avg       0.87      0.86      0.86      1442\n",
      "weighted avg       0.87      0.86      0.86      1442\n",
      "\n"
     ]
    }
   ],
   "source": [
    "from sklearn.naive_bayes import MultinomialNB\n",
    "clf = Pipeline([\n",
    "     ('count_vectorizer',CountVectorizer()),       \n",
    "     ('Random Forest', MultinomialNB())         \n",
    "])\n",
    "\n",
    "#2. fit with X_train and y_train\n",
    "clf.fit(X_train.values.astype('U'), y_train)\n",
    "\n",
    "\n",
    "#3. get the predictions for X_test and store it in y_pred\n",
    "y_pred = clf.predict(X_test.values.astype('U'))\n",
    "\n",
    "\n",
    "#4. print the classfication report\n",
    "print(classification_report(y_test, y_pred))"
   ]
  },
  {
   "cell_type": "code",
   "execution_count": null,
   "id": "8e7a2c87",
   "metadata": {},
   "outputs": [],
   "source": [
    "#final observatio\n",
    "\n",
    "#In tf-idf without preprocessed text, we found out that Random Forest is the best performer while KNN is the worst.\n",
    "\n",
    "#With preprocessed text, Random Forest improved by 1% accuracy.\n",
    "\n",
    "#However in count vectorizer Random Forest accuracy was down by 2% whereas the accuracy of both KNN and MultinomialNB improved by 1%"
   ]
  }
 ],
 "metadata": {
  "kernelspec": {
   "display_name": "Python 3 (ipykernel)",
   "language": "python",
   "name": "python3"
  },
  "language_info": {
   "codemirror_mode": {
    "name": "ipython",
    "version": 3
   },
   "file_extension": ".py",
   "mimetype": "text/x-python",
   "name": "python",
   "nbconvert_exporter": "python",
   "pygments_lexer": "ipython3",
   "version": "3.11.5"
  }
 },
 "nbformat": 4,
 "nbformat_minor": 5
}
